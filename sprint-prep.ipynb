{
 "cells": [
  {
   "cell_type": "markdown",
   "metadata": {},
   "source": [
    "# Text Generator"
   ]
  },
  {
   "cell_type": "code",
   "execution_count": null,
   "metadata": {},
   "outputs": [],
   "source": [
    "# Read the data\n",
    "# process the text\n",
    "#   - vectorize\n",
    "#   - Before training, we need to map strings to a numerical representation. \n",
    "#   - Create two lookup tables: one mapping characters to numbers, and another for numbers to characters.\n",
    "# Create training examples and targets\n",
    "#   - Next divide the text into example sequences. Each input sequence will contain seq_length characters from the text.\n",
    "#   - For each input sequence, the corresponding targets contain the same length of text, except shifted one character to the right.\n",
    "#   - To do this first use the tf.data.Dataset.from_tensor_slices function to convert the text vector into a stream of character indices.\n",
    "#   - The batch method lets us easily convert these individual characters to sequences of the desired size.\n",
    "#   - For each sequence, duplicate and shift it to form the input and target text by using the map method to apply a simple function to each batch:\n",
    "# Create training batches\n",
    "#  "
   ]
  }
 ],
 "metadata": {
  "kernelspec": {
   "display_name": "DS-Unit-4-Sprint-3-Deep-Learning",
   "language": "python",
   "name": "ds-unit-4-sprint-3-deep-learning"
  },
  "language_info": {
   "codemirror_mode": {
    "name": "ipython",
    "version": 3
   },
   "file_extension": ".py",
   "mimetype": "text/x-python",
   "name": "python",
   "nbconvert_exporter": "python",
   "pygments_lexer": "ipython3",
   "version": "3.7.5"
  }
 },
 "nbformat": 4,
 "nbformat_minor": 4
}
